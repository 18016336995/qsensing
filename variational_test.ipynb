{
 "cells": [
  {
   "cell_type": "code",
   "execution_count": 1,
   "metadata": {},
   "outputs": [],
   "source": [
    "# pylint: disable=missing-function-docstring\n",
    "import numpy as np\n",
    "\n",
    "np.random.seed(999999)\n",
    "p0 = np.random.random()\n",
    "target_distr = {0: p0, 1: 1 - p0}"
   ]
  },
  {
   "cell_type": "code",
   "execution_count": 5,
   "metadata": {},
   "outputs": [
    {
     "data": {
      "text/html": [
       "<pre style=\"word-wrap: normal;white-space: pre;background: #fff0;line-height: 1.1;font-family: &quot;Courier New&quot;,Courier,monospace\">     ┌──────────────────┐┌─┐\n",
       "  q: ┤ U(theta,phi,lam) ├┤M├\n",
       "     └──────────────────┘└╥┘\n",
       "c: 1/═════════════════════╩═\n",
       "                          0 </pre>"
      ],
      "text/plain": [
       "     ┌──────────────────┐┌─┐\n",
       "  q: ┤ U(theta,phi,lam) ├┤M├\n",
       "     └──────────────────┘└╥┘\n",
       "c: 1/═════════════════════╩═\n",
       "                          0 "
      ]
     },
     "execution_count": 5,
     "metadata": {},
     "output_type": "execute_result"
    }
   ],
   "source": [
    "from qiskit import QuantumCircuit, ClassicalRegister, QuantumRegister\n",
    "from qiskit.circuit import Parameter\n",
    "\n",
    "params = [Parameter(\"theta\"), Parameter(\"phi\"), Parameter(\"lam\")]\n",
    "\n",
    "\n",
    "def get_var_form(params):\n",
    "    qr = QuantumRegister(1, name=\"q\")\n",
    "    cr = ClassicalRegister(1, name=\"c\")\n",
    "    qc = QuantumCircuit(qr, cr)\n",
    "    qc.u(params[0], params[1], params[2], qr[0])\n",
    "    qc.measure(qr, cr[0])\n",
    "    return qc\n",
    "\n",
    "\n",
    "qc = get_var_form(params)\n",
    "qc.draw()"
   ]
  },
  {
   "cell_type": "code",
   "execution_count": 3,
   "metadata": {},
   "outputs": [],
   "source": [
    "from qiskit_aer.primitives import Sampler, Estimator\n",
    "\n",
    "sampler = Sampler()\n",
    "\n",
    "\n",
    "def objective_function(params):\n",
    "    \"\"\"Compares the output distribution of our circuit with\n",
    "    parameters `params` to the target distribution.\"\"\"\n",
    "    # Simulate the circuit instance with paramters\n",
    "    result = sampler.run(circuits=qc, parameter_values=params).result()\n",
    "    # Get the quasi distribution for each measured state\n",
    "    output_distr = result.quasi_dists[0]\n",
    "    # Calculate the cost as the distance between the output\n",
    "    # distribution and the target distribution\n",
    "    cost = sum(\n",
    "        abs(target_distr.get(i, 0) - output_distr.get(i, 0))\n",
    "        for i in range(2**qc.num_qubits)\n",
    "    )\n",
    "    return cost"
   ]
  },
  {
   "cell_type": "code",
   "execution_count": 6,
   "metadata": {},
   "outputs": [
    {
     "name": "stdout",
     "output_type": "stream",
     "text": [
      "[0.65299855 0.65780185 0.20156804]\n",
      "Parameters Found: [ 1.7264664  -0.2674363   2.01414913]\n",
      "Target Distribution: {0: 0.308979188922057, 1: 0.691020811077943}\n",
      "Obtained Distribution: {1: 0.7041015625, 0: 0.2958984375}\n",
      "Cost: 0.035927127844114004\n"
     ]
    }
   ],
   "source": [
    "from qiskit.algorithms.optimizers import SPSA, SLSQP, COBYLA\n",
    "\n",
    "optimizer = COBYLA(maxiter=500, tol=0.0001)\n",
    "# Create the initial parameters (noting that our\n",
    "# single qubit variational form has 3 parameters)\n",
    "initial_point = np.random.rand(3)\n",
    "print(initial_point)\n",
    "\n",
    "result = optimizer.minimize(fun=objective_function, x0=initial_point)\n",
    "\n",
    "# Obtain the output distribution using the final parameters\n",
    "output_distr = (\n",
    "    sampler.run(circuits=qc, parameter_values=result.x)\n",
    "    .result()\n",
    "    .quasi_dists[0]\n",
    ")\n",
    "\n",
    "print(\"Parameters Found:\", result.x)\n",
    "print(\"Target Distribution:\", target_distr)\n",
    "print(\"Obtained Distribution:\", output_distr)\n",
    "print(\"Cost:\", objective_function(result.x))"
   ]
  }
 ],
 "metadata": {
  "kernelspec": {
   "display_name": "base",
   "language": "python",
   "name": "python3"
  },
  "language_info": {
   "codemirror_mode": {
    "name": "ipython",
    "version": 3
   },
   "file_extension": ".py",
   "mimetype": "text/x-python",
   "name": "python",
   "nbconvert_exporter": "python",
   "pygments_lexer": "ipython3",
   "version": "3.11.3"
  }
 },
 "nbformat": 4,
 "nbformat_minor": 2
}
